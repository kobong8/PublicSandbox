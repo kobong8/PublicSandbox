{
 "cells": [
  {
   "cell_type": "code",
   "execution_count": 1,
   "metadata": {},
   "outputs": [],
   "source": [
    "import pandas as pd\n",
    "import random\n",
    "\n",
    "from typing import List\n",
    "\n",
    "random.seed(42)"
   ]
  },
  {
   "cell_type": "code",
   "execution_count": 2,
   "metadata": {},
   "outputs": [],
   "source": [
    "temp: List = ['A', 'B', 'C']\n",
    "data: List = [[temp[i % len(temp)], random.random(), random.random(), random.random()] for i in range(18)]"
   ]
  },
  {
   "cell_type": "code",
   "execution_count": 3,
   "metadata": {},
   "outputs": [
    {
     "name": "stdout",
     "output_type": "stream",
     "text": [
      "   type   value01   value02   value03\n",
      "0     A  0.639427  0.025011  0.275029\n",
      "1     B  0.223211  0.736471  0.676699\n",
      "2     C  0.892180  0.086939  0.421922\n",
      "3     A  0.029797  0.218638  0.505355\n",
      "4     B  0.026536  0.198838  0.649884\n",
      "5     C  0.544941  0.220441  0.589266\n",
      "6     A  0.809430  0.006499  0.805819\n",
      "7     B  0.698139  0.340251  0.155479\n",
      "8     C  0.957213  0.336595  0.092746\n",
      "9     A  0.096716  0.847494  0.603726\n",
      "10    B  0.807128  0.729732  0.536228\n",
      "11    C  0.973116  0.378534  0.552041\n",
      "12    A  0.829405  0.618520  0.861707\n",
      "13    B  0.577352  0.704572  0.045824\n",
      "14    C  0.227898  0.289388  0.079792\n",
      "15    A  0.232791  0.101001  0.277974\n",
      "16    B  0.635684  0.364832  0.370181\n",
      "17    C  0.209507  0.266978  0.936655\n"
     ]
    }
   ],
   "source": [
    "df: pd.DataFrame = pd.DataFrame(data, columns=['type', 'value01', 'value02', 'value03'])\n",
    "print(df)"
   ]
  },
  {
   "cell_type": "code",
   "execution_count": 4,
   "metadata": {},
   "outputs": [
    {
     "name": "stdout",
     "output_type": "stream",
     "text": [
      "   type   value01   value02   value03\n",
      "0     A  0.000000  0.025011  0.275029\n",
      "1     B  0.223211  0.736471  0.676699\n",
      "2     C  0.892180  0.086939  0.421922\n",
      "3     A  0.000000  0.218638  0.505355\n",
      "4     B  0.026536  0.198838  0.649884\n",
      "5     C  0.544941  0.220441  0.589266\n",
      "6     A  0.000000  0.006499  0.805819\n",
      "7     B  0.698139  0.340251  0.155479\n",
      "8     C  0.957213  0.336595  0.092746\n",
      "9     A  0.000000  0.847494  0.603726\n",
      "10    B  0.807128  0.729732  0.536228\n",
      "11    C  0.973116  0.378534  0.552041\n",
      "12    A  0.000000  0.618520  0.861707\n",
      "13    B  0.577352  0.704572  0.045824\n",
      "14    C  0.227898  0.289388  0.079792\n",
      "15    A  0.000000  0.101001  0.277974\n",
      "16    B  0.635684  0.364832  0.370181\n",
      "17    C  0.209507  0.266978  0.936655\n"
     ]
    }
   ],
   "source": [
    "df_copy = df.copy()\n",
    "df_copy.loc[df_copy['type'] == 'A', 'value01'] = 0\n",
    "print(df_copy)"
   ]
  },
  {
   "cell_type": "code",
   "execution_count": 5,
   "metadata": {},
   "outputs": [
    {
     "name": "stdout",
     "output_type": "stream",
     "text": [
      "   type   value01  value02  value03\n",
      "0     A  0.639427      1.0      1.0\n",
      "1     B  0.223211      0.5      0.5\n",
      "2     C  0.892180      1.0      1.0\n",
      "3     A  0.029797      0.5      0.5\n",
      "4     B  0.026536      0.5      0.5\n",
      "5     C  0.544941      1.0      1.0\n",
      "6     A  0.809430      1.0      1.0\n",
      "7     B  0.698139      1.0      1.0\n",
      "8     C  0.957213      1.0      1.0\n",
      "9     A  0.096716      0.5      0.5\n",
      "10    B  0.807128      1.0      1.0\n",
      "11    C  0.973116      1.0      1.0\n",
      "12    A  0.829405      1.0      1.0\n",
      "13    B  0.577352      1.0      1.0\n",
      "14    C  0.227898      0.5      0.5\n",
      "15    A  0.232791      0.5      0.5\n",
      "16    B  0.635684      1.0      1.0\n",
      "17    C  0.209507      0.5      0.5\n"
     ]
    }
   ],
   "source": [
    "df_copy = df.copy()\n",
    "col_list: List = ['value02', 'value03']\n",
    "df_copy.loc[df_copy['value01'] < 0.5, col_list] = 0.5\n",
    "df_copy.loc[df_copy['value01'] > 0.5, col_list] = 1.0\n",
    "print(df_copy)"
   ]
  }
 ],
 "metadata": {
  "kernelspec": {
   "display_name": "tf",
   "language": "python",
   "name": "python3"
  },
  "language_info": {
   "codemirror_mode": {
    "name": "ipython",
    "version": 3
   },
   "file_extension": ".py",
   "mimetype": "text/x-python",
   "name": "python",
   "nbconvert_exporter": "python",
   "pygments_lexer": "ipython3",
   "version": "3.9.16"
  },
  "orig_nbformat": 4
 },
 "nbformat": 4,
 "nbformat_minor": 2
}
