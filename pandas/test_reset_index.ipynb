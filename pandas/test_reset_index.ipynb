{
 "cells": [
  {
   "cell_type": "code",
   "execution_count": 14,
   "metadata": {},
   "outputs": [],
   "source": [
    "import pandas as pd\n",
    "import numpy as np\n",
    "import matplotlib.pyplot as plt"
   ]
  },
  {
   "cell_type": "code",
   "execution_count": 15,
   "metadata": {},
   "outputs": [
    {
     "name": "stdout",
     "output_type": "stream",
     "text": [
      "        data01    data02\n",
      "AAAA -1.000000  0.500000\n",
      "BBBB  1.414214 -0.333333\n",
      "CCCC -1.732051  0.250000\n",
      "DDDD  2.000000 -0.200000\n",
      "EEEE -2.236068  0.166667\n",
      "FFFF  2.449490 -0.142857\n",
      "GGGG -2.645751  0.125000\n"
     ]
    }
   ],
   "source": [
    "data_columns = ['data01', 'data02']\n",
    "index = ['AAAA', 'BBBB', 'CCCC', 'DDDD', 'EEEE', 'FFFF', 'GGGG']\n",
    "\n",
    "data_example = pd.DataFrame([[np.sqrt(i+1)*(-1)**(i+1), 1/(i+2)*(-1)**i] for i in range(7)], \n",
    "                            index=index, \n",
    "                            columns=data_columns)\n",
    "print(data_example)"
   ]
  },
  {
   "cell_type": "code",
   "execution_count": 16,
   "metadata": {},
   "outputs": [
    {
     "name": "stdout",
     "output_type": "stream",
     "text": [
      "     data01    data02\n",
      "0 -1.000000  0.500000\n",
      "1  1.414214 -0.333333\n",
      "2 -1.732051  0.250000\n",
      "3  2.000000 -0.200000\n",
      "4 -2.236068  0.166667\n",
      "5  2.449490 -0.142857\n",
      "6 -2.645751  0.125000\n"
     ]
    }
   ],
   "source": [
    "data_example.reset_index(inplace=True, drop=True)\n",
    "print(data_example)"
   ]
  }
 ],
 "metadata": {
  "kernelspec": {
   "display_name": "pt_gpu",
   "language": "python",
   "name": "python3"
  },
  "language_info": {
   "codemirror_mode": {
    "name": "ipython",
    "version": 3
   },
   "file_extension": ".py",
   "mimetype": "text/x-python",
   "name": "python",
   "nbconvert_exporter": "python",
   "pygments_lexer": "ipython3",
   "version": "3.10.12"
  }
 },
 "nbformat": 4,
 "nbformat_minor": 2
}
