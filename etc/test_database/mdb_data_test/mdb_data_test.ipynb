{
 "cells": [
  {
   "cell_type": "code",
   "execution_count": 1,
   "metadata": {},
   "outputs": [],
   "source": [
    "import pyodbc"
   ]
  },
  {
   "cell_type": "code",
   "execution_count": null,
   "metadata": {},
   "outputs": [],
   "source": [
    "# TODO TCP/IP\n",
    "# TODO WireShark"
   ]
  },
  {
   "cell_type": "code",
   "execution_count": 2,
   "metadata": {},
   "outputs": [],
   "source": [
    "mdb_path = \"./database.mdb\"\n",
    "driver = '{Microsoft Access Driver (*.mdb, *.accdb)}'\n",
    "conn_str = f\"DRIVER={driver};DBQ={mdb_path};\"\n",
    "\n",
    "cnxn = pyodbc.connect(conn_str)\n",
    "cursor = cnxn.cursor()"
   ]
  },
  {
   "cell_type": "code",
   "execution_count": 3,
   "metadata": {},
   "outputs": [
    {
     "data": {
      "text/plain": [
       "<pyodbc.Cursor at 0x24c574688b0>"
      ]
     },
     "execution_count": 3,
     "metadata": {},
     "output_type": "execute_result"
    }
   ],
   "source": [
    "cursor.execute(\"DROP TABLE DATA_TABLE\")"
   ]
  },
  {
   "cell_type": "code",
   "execution_count": 4,
   "metadata": {},
   "outputs": [],
   "source": [
    "# cursor.execute(\"\"\"\n",
    "# CREATE TABLE DATA_TABLE (\n",
    "#     id INTEGER PRIMARY KEY,\n",
    "#     DATA01 FLOAT, DATA02 FLOAT,\n",
    "#     DATA03 FLOAT, DATA04 FLOAT,\n",
    "#     DATA05 FLOAT, DATA06 FLOAT,  \n",
    "#     DATA07 FLOAT, DATA08 FLOAT,\n",
    "#     DATA09 FLOAT\n",
    "# );\n",
    "# \"\"\")"
   ]
  },
  {
   "cell_type": "code",
   "execution_count": 5,
   "metadata": {},
   "outputs": [
    {
     "name": "stdout",
     "output_type": "stream",
     "text": [
      "CREATE TABLE DATA_TABLE (id INTEGER PRIMARY KEY, DATA01 FLOAT, DATA02 FLOAT, DATA03 FLOAT, DATA04 FLOAT, DATA05 FLOAT, DATA06 FLOAT, DATA07 FLOAT, DATA08 FLOAT, DATA09 FLOAT);\n"
     ]
    },
    {
     "data": {
      "text/plain": [
       "<pyodbc.Cursor at 0x24c574688b0>"
      ]
     },
     "execution_count": 5,
     "metadata": {},
     "output_type": "execute_result"
    }
   ],
   "source": [
    "start_query = \"CREATE TABLE DATA_TABLE (\"\n",
    "id_query = \"id INTEGER PRIMARY KEY, \"\n",
    "data_query = [f\"DATA0{i} FLOAT\" for i in range(1, 10)]\n",
    "data_query = \", \".join(data_query)\n",
    "end_query = \");\"\n",
    "\n",
    "tot_query = start_query + id_query + data_query + end_query\n",
    "print(tot_query)\n",
    "\n",
    "cursor.execute(tot_query)"
   ]
  },
  {
   "cell_type": "code",
   "execution_count": 6,
   "metadata": {},
   "outputs": [],
   "source": [
    "# excute once\n",
    "# start_query = \"INSERT INTO DATA_TABLE \"\n",
    "# id_query = \"(id, \"\n",
    "\n",
    "# data_query = [f\"DATA0{i}\" for i in range(1, 10)]\n",
    "# data_query = \", \".join(data_query)\n",
    "\n",
    "# values_query = \") VALUES (1, \"\n",
    "# values_str = [f\"{i}\" for i in range(1, 10)]\n",
    "# values_str = \", \".join(values_str)\n",
    "# end_query = \")\"\n",
    "\n",
    "# tot_query = start_query + id_query + data_query + values_query + values_str + end_query\n",
    "# print(tot_query)\n",
    "\n",
    "# cursor.execute(tot_query)"
   ]
  },
  {
   "cell_type": "code",
   "execution_count": 7,
   "metadata": {},
   "outputs": [
    {
     "name": "stdout",
     "output_type": "stream",
     "text": [
      "INSERT INTO DATA_TABLE (id, DATA01, DATA02, DATA03, DATA04, DATA05, DATA06, DATA07, DATA08, DATA09) VALUES (1, 1, 2, 3, 4, 5, 6, 7, 8, 9)\n",
      "INSERT INTO DATA_TABLE (id, DATA01, DATA02, DATA03, DATA04, DATA05, DATA06, DATA07, DATA08, DATA09) VALUES (2, 1, 2, 3, 4, 5, 6, 7, 8, 9)\n",
      "INSERT INTO DATA_TABLE (id, DATA01, DATA02, DATA03, DATA04, DATA05, DATA06, DATA07, DATA08, DATA09) VALUES (3, 1, 2, 3, 4, 5, 6, 7, 8, 9)\n",
      "INSERT INTO DATA_TABLE (id, DATA01, DATA02, DATA03, DATA04, DATA05, DATA06, DATA07, DATA08, DATA09) VALUES (4, 1, 2, 3, 4, 5, 6, 7, 8, 9)\n",
      "INSERT INTO DATA_TABLE (id, DATA01, DATA02, DATA03, DATA04, DATA05, DATA06, DATA07, DATA08, DATA09) VALUES (5, 1, 2, 3, 4, 5, 6, 7, 8, 9)\n",
      "INSERT INTO DATA_TABLE (id, DATA01, DATA02, DATA03, DATA04, DATA05, DATA06, DATA07, DATA08, DATA09) VALUES (6, 1, 2, 3, 4, 5, 6, 7, 8, 9)\n",
      "INSERT INTO DATA_TABLE (id, DATA01, DATA02, DATA03, DATA04, DATA05, DATA06, DATA07, DATA08, DATA09) VALUES (7, 1, 2, 3, 4, 5, 6, 7, 8, 9)\n",
      "INSERT INTO DATA_TABLE (id, DATA01, DATA02, DATA03, DATA04, DATA05, DATA06, DATA07, DATA08, DATA09) VALUES (8, 1, 2, 3, 4, 5, 6, 7, 8, 9)\n",
      "INSERT INTO DATA_TABLE (id, DATA01, DATA02, DATA03, DATA04, DATA05, DATA06, DATA07, DATA08, DATA09) VALUES (9, 1, 2, 3, 4, 5, 6, 7, 8, 9)\n"
     ]
    }
   ],
   "source": [
    "# excute k times\n",
    "for k in range(1, 10):\n",
    "    start_query = \"INSERT INTO DATA_TABLE \"\n",
    "    id_query = \"(id, \"\n",
    "\n",
    "    data_query = [f\"DATA0{i}\" for i in range(1, 10)]\n",
    "    data_query = \", \".join(data_query)\n",
    "\n",
    "    values_query = f\") VALUES ({k}, \"\n",
    "    values_str = [f\"{i}\" for i in range(1, 10)]\n",
    "    values_str = \", \".join(values_str)\n",
    "    end_query = \")\"\n",
    "\n",
    "    tot_query = start_query + id_query + data_query + values_query + values_str + end_query\n",
    "    print(tot_query)\n",
    "\n",
    "    cursor.execute(tot_query)"
   ]
  },
  {
   "cell_type": "code",
   "execution_count": 8,
   "metadata": {},
   "outputs": [],
   "source": [
    "cnxn.commit()"
   ]
  },
  {
   "cell_type": "code",
   "execution_count": 9,
   "metadata": {},
   "outputs": [
    {
     "name": "stdout",
     "output_type": "stream",
     "text": [
      "(1, 1.0, 2.0, 3.0, 4.0, 5.0, 6.0, 7.0, 8.0, 9.0)\n",
      "(2, 1.0, 2.0, 3.0, 4.0, 5.0, 6.0, 7.0, 8.0, 9.0)\n",
      "(3, 1.0, 2.0, 3.0, 4.0, 5.0, 6.0, 7.0, 8.0, 9.0)\n",
      "(4, 1.0, 2.0, 3.0, 4.0, 5.0, 6.0, 7.0, 8.0, 9.0)\n",
      "(5, 1.0, 2.0, 3.0, 4.0, 5.0, 6.0, 7.0, 8.0, 9.0)\n",
      "(6, 1.0, 2.0, 3.0, 4.0, 5.0, 6.0, 7.0, 8.0, 9.0)\n",
      "(7, 1.0, 2.0, 3.0, 4.0, 5.0, 6.0, 7.0, 8.0, 9.0)\n",
      "(8, 1.0, 2.0, 3.0, 4.0, 5.0, 6.0, 7.0, 8.0, 9.0)\n",
      "(9, 1.0, 2.0, 3.0, 4.0, 5.0, 6.0, 7.0, 8.0, 9.0)\n"
     ]
    }
   ],
   "source": [
    "cursor.execute(\"SELECT * FROM DATA_TABLE\")\n",
    "\n",
    "for row in cursor:\n",
    "    print(row)"
   ]
  },
  {
   "cell_type": "markdown",
   "metadata": {},
   "source": [
    "- Reference\n",
    "\n",
    "https://blog.naver.com/cjinnnn/223047261231"
   ]
  }
 ],
 "metadata": {
  "kernelspec": {
   "display_name": "tf12",
   "language": "python",
   "name": "python3"
  },
  "language_info": {
   "codemirror_mode": {
    "name": "ipython",
    "version": 3
   },
   "file_extension": ".py",
   "mimetype": "text/x-python",
   "name": "python",
   "nbconvert_exporter": "python",
   "pygments_lexer": "ipython3",
   "version": "3.10.14"
  }
 },
 "nbformat": 4,
 "nbformat_minor": 2
}
