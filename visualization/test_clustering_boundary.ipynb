{
 "cells": [
  {
   "cell_type": "code",
   "execution_count": 1,
   "metadata": {},
   "outputs": [],
   "source": [
    "import matplotlib.pyplot as plt\n",
    "import numpy as np\n",
    "from typing import List, Tuple\n",
    "\n",
    "import shapely.geometry\n",
    "from descartes import PolygonPatch\n",
    "from shapely.geometry import box\n",
    "import shapely.ops as so\n",
    "# shapely==1.8.4"
   ]
  },
  {
   "cell_type": "code",
   "execution_count": 2,
   "metadata": {},
   "outputs": [],
   "source": [
    "import warnings\n",
    "warnings.filterwarnings('ignore')"
   ]
  },
  {
   "cell_type": "code",
   "execution_count": 3,
   "metadata": {},
   "outputs": [],
   "source": [
    "def draw_clustering_boundary(cluter_idx: np.ndarray, edge_colors: List, fig_obj: plt.figure,\n",
    "                             boundary_shift: Tuple[float, float] = (-0.5, 0.5)) -> None:\n",
    "    for k in range(len(np.unique(cluter_idx))):\n",
    "        rect_list: List[shapely.geometry.box] = []\n",
    "        for i in range(cluter_idx.shape[0]):\n",
    "            for j in range(cluter_idx.shape[1]):\n",
    "                if cluter_idx[i, j] == (k+1):\n",
    "                    rect = box(j + boundary_shift[0], i + boundary_shift[0],\n",
    "                               j + boundary_shift[1], i + boundary_shift[1])\n",
    "                    rect_list.append(rect)\n",
    "\n",
    "        new_shape = so.unary_union(rect_list)\n",
    "        ax = fig_obj.gca()\n",
    "        # TODO IndexError: too many indices for array: array is 0-dimensional, but 2 were indexed\n",
    "        # SOLVED conda install shapely==1.8.4\n",
    "        # TODO ShapelyDeprecationWarning: The array interface is deprecated and will no longer work in Shapely 2.0. \n",
    "        # Convert the '.coords' to a numpy array instead. vertices = concatenate([\n",
    "        ax.add_patch(PolygonPatch(new_shape, ec=edge_colors[k],\n",
    "                                  fill=False, linewidth=2, zorder=2))"
   ]
  },
  {
   "cell_type": "code",
   "execution_count": 4,
   "metadata": {},
   "outputs": [
    {
     "data": {
      "image/png": "[encoded data removed]",
      "text/plain": [
       "<Figure size 900x900 with 1 Axes>"
      ]
     },
     "metadata": {},
     "output_type": "display_data"
    }
   ],
   "source": [
    "if __name__ == \"__main__\":\n",
    "    test_arr: np.ndarray = np.array([[1, 1, 3, 3, 6, 6, 4, 4, 4],\n",
    "                                     [1, 1, 3, 3, 6, 6, 4, 4, 4],\n",
    "                                     [2, 2, 3, 3, 6, 8, 8, 4, 4],\n",
    "                                     [2, 2, 3, 3, 6, 8, 8, 4, 4],\n",
    "                                     [5, 5, 5, 3, 6, 7, 7, 7, 7],\n",
    "                                     [5, 5, 5, 3, 6, 7, 7, 7, 7]])\n",
    "\n",
    "    np.random.seed(42)\n",
    "    background_image: np.ndarray = np.random.rand(test_arr.shape[0], test_arr.shape[1])\n",
    "\n",
    "    fig = plt.figure(1, figsize=(9, 9))\n",
    "    plt.imshow(background_image, cmap='Pastel1')\n",
    "    edge_colors: List[str] = ['black', 'blue', 'yellow', 'red', 'green', 'magenta', 'gray', 'purple']\n",
    "    edge_colors: List[str] = ['black' for _ in range(test_arr.shape[1])]\n",
    "    draw_clustering_boundary(test_arr, edge_colors=edge_colors, fig_obj=fig, boundary_shift=(-0.5, 0.5))\n",
    "    plt.show()"
   ]
  },
  {
   "cell_type": "code",
   "execution_count": null,
   "metadata": {},
   "outputs": [],
   "source": []
  }
 ],
 "metadata": {
  "kernelspec": {
   "display_name": "py10",
   "language": "python",
   "name": "python3"
  },
  "language_info": {
   "codemirror_mode": {
    "name": "ipython",
    "version": 3
   },
   "file_extension": ".py",
   "mimetype": "text/x-python",
   "name": "python",
   "nbconvert_exporter": "python",
   "pygments_lexer": "ipython3",
   "version": "3.10.12"
  }
 },
 "nbformat": 4,
 "nbformat_minor": 2
}
