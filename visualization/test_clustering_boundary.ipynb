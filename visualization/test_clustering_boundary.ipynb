{
 "cells": [
  {
   "cell_type": "code",
   "execution_count": 4,
   "metadata": {},
   "outputs": [],
   "source": [
    "import matplotlib.pyplot as plt\n",
    "import numpy as np\n",
    "from typing import List, Tuple\n",
    "\n",
    "import shapely.geometry\n",
    "from descartes import PolygonPatch\n",
    "from shapely.geometry import box\n",
    "import shapely.ops as so"
   ]
  },
  {
   "cell_type": "code",
   "execution_count": 5,
   "metadata": {},
   "outputs": [],
   "source": [
    "def draw_clustering_boundary(cluter_idx: np.ndarray, fig_obj: plt.figure,\n",
    "                             boundary_shift: Tuple[float, float] = (-0.5, 0.5)) -> None:\n",
    "    for k in range(len(np.unique(cluter_idx))):\n",
    "        rect_list: List[shapely.geometry.box] = []\n",
    "        for i in range(cluter_idx.shape[0]):\n",
    "            for j in range(cluter_idx.shape[1]):\n",
    "                if cluter_idx[i, j] == (k+1):\n",
    "                    rect = box(j + boundary_shift[0], i + boundary_shift[0],\n",
    "                               j + boundary_shift[1], i + boundary_shift[1])\n",
    "                    rect_list.append(rect)\n",
    "\n",
    "        new_shape = so.unary_union(rect_list)\n",
    "        ax = fig_obj.gca()\n",
    "        # IndexError: too many indices for array: array is 0-dimensional, but 2 were indexed\n",
    "        ax.add_patch(PolygonPatch(new_shape, ec='black',\n",
    "                                  fill=False, linewidth=2, zorder=2))"
   ]
  },
  {
   "cell_type": "code",
   "execution_count": 6,
   "metadata": {},
   "outputs": [
    {
     "ename": "IndexError",
     "evalue": "too many indices for array: array is 0-dimensional, but 2 were indexed",
     "output_type": "error",
     "traceback": [
      "\u001b[1;31m---------------------------------------------------------------------------\u001b[0m",
      "\u001b[1;31mIndexError\u001b[0m                                Traceback (most recent call last)",
      "Cell \u001b[1;32mIn[6], line 15\u001b[0m\n\u001b[0;32m     12\u001b[0m plt\u001b[38;5;241m.\u001b[39mimshow(background_image, cmap\u001b[38;5;241m=\u001b[39m\u001b[38;5;124m'\u001b[39m\u001b[38;5;124mPastel1\u001b[39m\u001b[38;5;124m'\u001b[39m)\n\u001b[0;32m     13\u001b[0m \u001b[38;5;66;03m# edge_colors: List[str] = ['black', 'blue', 'yellow', 'red', 'green']\u001b[39;00m\n\u001b[0;32m     14\u001b[0m \u001b[38;5;66;03m# edge_colors: List[str] = ['black', 'black', 'black', 'black', 'black']\u001b[39;00m\n\u001b[1;32m---> 15\u001b[0m \u001b[43mdraw_clustering_boundary\u001b[49m\u001b[43m(\u001b[49m\u001b[43mtest_arr\u001b[49m\u001b[43m,\u001b[49m\u001b[43m \u001b[49m\u001b[43mfig_obj\u001b[49m\u001b[38;5;241;43m=\u001b[39;49m\u001b[43mfig\u001b[49m\u001b[43m,\u001b[49m\u001b[43m \u001b[49m\u001b[43mboundary_shift\u001b[49m\u001b[38;5;241;43m=\u001b[39;49m\u001b[43m(\u001b[49m\u001b[38;5;241;43m-\u001b[39;49m\u001b[38;5;241;43m0.5\u001b[39;49m\u001b[43m,\u001b[49m\u001b[43m \u001b[49m\u001b[38;5;241;43m0.5\u001b[39;49m\u001b[43m)\u001b[49m\u001b[43m)\u001b[49m\n\u001b[0;32m     16\u001b[0m plt\u001b[38;5;241m.\u001b[39mshow()\n",
      "Cell \u001b[1;32mIn[5], line 16\u001b[0m, in \u001b[0;36mdraw_clustering_boundary\u001b[1;34m(cluter_idx, fig_obj, boundary_shift)\u001b[0m\n\u001b[0;32m     14\u001b[0m ax \u001b[38;5;241m=\u001b[39m fig_obj\u001b[38;5;241m.\u001b[39mgca()\n\u001b[0;32m     15\u001b[0m \u001b[38;5;66;03m# IndexError: too many indices for array: array is 0-dimensional, but 2 were indexed\u001b[39;00m\n\u001b[1;32m---> 16\u001b[0m ax\u001b[38;5;241m.\u001b[39madd_patch(\u001b[43mPolygonPatch\u001b[49m\u001b[43m(\u001b[49m\u001b[43mnew_shape\u001b[49m\u001b[43m,\u001b[49m\u001b[43m \u001b[49m\u001b[43mec\u001b[49m\u001b[38;5;241;43m=\u001b[39;49m\u001b[38;5;124;43m'\u001b[39;49m\u001b[38;5;124;43mblack\u001b[39;49m\u001b[38;5;124;43m'\u001b[39;49m\u001b[43m,\u001b[49m\n\u001b[0;32m     17\u001b[0m \u001b[43m                          \u001b[49m\u001b[43mfill\u001b[49m\u001b[38;5;241;43m=\u001b[39;49m\u001b[38;5;28;43;01mFalse\u001b[39;49;00m\u001b[43m,\u001b[49m\u001b[43m \u001b[49m\u001b[43mlinewidth\u001b[49m\u001b[38;5;241;43m=\u001b[39;49m\u001b[38;5;241;43m2\u001b[39;49m\u001b[43m,\u001b[49m\u001b[43m \u001b[49m\u001b[43mzorder\u001b[49m\u001b[38;5;241;43m=\u001b[39;49m\u001b[38;5;241;43m2\u001b[39;49m\u001b[43m)\u001b[49m)\n",
      "File \u001b[1;32mc:\\Users\\demeter\\anaconda3\\envs\\py10\\lib\\site-packages\\descartes\\patch.py:87\u001b[0m, in \u001b[0;36mPolygonPatch\u001b[1;34m(polygon, **kwargs)\u001b[0m\n\u001b[0;32m     73\u001b[0m \u001b[38;5;28;01mdef\u001b[39;00m \u001b[38;5;21mPolygonPatch\u001b[39m(polygon, \u001b[38;5;241m*\u001b[39m\u001b[38;5;241m*\u001b[39mkwargs):\n\u001b[0;32m     74\u001b[0m \u001b[38;5;250m    \u001b[39m\u001b[38;5;124;03m\"\"\"Constructs a matplotlib patch from a geometric object\u001b[39;00m\n\u001b[0;32m     75\u001b[0m \n\u001b[0;32m     76\u001b[0m \u001b[38;5;124;03m    The `polygon` may be a Shapely or GeoJSON-like object with or without holes.\u001b[39;00m\n\u001b[1;32m   (...)\u001b[0m\n\u001b[0;32m     85\u001b[0m \n\u001b[0;32m     86\u001b[0m \u001b[38;5;124;03m    \"\"\"\u001b[39;00m\n\u001b[1;32m---> 87\u001b[0m     \u001b[38;5;28;01mreturn\u001b[39;00m PathPatch(\u001b[43mPolygonPath\u001b[49m\u001b[43m(\u001b[49m\u001b[43mpolygon\u001b[49m\u001b[43m)\u001b[49m, \u001b[38;5;241m*\u001b[39m\u001b[38;5;241m*\u001b[39mkwargs)\n",
      "File \u001b[1;32mc:\\Users\\demeter\\anaconda3\\envs\\py10\\lib\\site-packages\\descartes\\patch.py:62\u001b[0m, in \u001b[0;36mPolygonPath\u001b[1;34m(polygon)\u001b[0m\n\u001b[0;32m     58\u001b[0m     \u001b[38;5;28;01melse\u001b[39;00m:\n\u001b[0;32m     59\u001b[0m         \u001b[38;5;28;01mraise\u001b[39;00m \u001b[38;5;167;01mValueError\u001b[39;00m(\n\u001b[0;32m     60\u001b[0m             \u001b[38;5;124m\"\u001b[39m\u001b[38;5;124mA polygon or multi-polygon representation is required\u001b[39m\u001b[38;5;124m\"\u001b[39m)\n\u001b[1;32m---> 62\u001b[0m vertices \u001b[38;5;241m=\u001b[39m concatenate([\n\u001b[0;32m     63\u001b[0m     concatenate([asarray(t\u001b[38;5;241m.\u001b[39mexterior)[:, :\u001b[38;5;241m2\u001b[39m]] \u001b[38;5;241m+\u001b[39m\n\u001b[0;32m     64\u001b[0m                 [asarray(r)[:, :\u001b[38;5;241m2\u001b[39m] \u001b[38;5;28;01mfor\u001b[39;00m r \u001b[38;5;129;01min\u001b[39;00m t\u001b[38;5;241m.\u001b[39minteriors])\n\u001b[0;32m     65\u001b[0m     \u001b[38;5;28;01mfor\u001b[39;00m t \u001b[38;5;129;01min\u001b[39;00m polygon])\n\u001b[0;32m     66\u001b[0m codes \u001b[38;5;241m=\u001b[39m concatenate([\n\u001b[0;32m     67\u001b[0m     concatenate([coding(t\u001b[38;5;241m.\u001b[39mexterior)] \u001b[38;5;241m+\u001b[39m\n\u001b[0;32m     68\u001b[0m                 [coding(r) \u001b[38;5;28;01mfor\u001b[39;00m r \u001b[38;5;129;01min\u001b[39;00m t\u001b[38;5;241m.\u001b[39minteriors]) \u001b[38;5;28;01mfor\u001b[39;00m t \u001b[38;5;129;01min\u001b[39;00m polygon])\n\u001b[0;32m     70\u001b[0m \u001b[38;5;28;01mreturn\u001b[39;00m Path(vertices, codes)\n",
      "File \u001b[1;32mc:\\Users\\demeter\\anaconda3\\envs\\py10\\lib\\site-packages\\descartes\\patch.py:63\u001b[0m, in \u001b[0;36m<listcomp>\u001b[1;34m(.0)\u001b[0m\n\u001b[0;32m     58\u001b[0m     \u001b[38;5;28;01melse\u001b[39;00m:\n\u001b[0;32m     59\u001b[0m         \u001b[38;5;28;01mraise\u001b[39;00m \u001b[38;5;167;01mValueError\u001b[39;00m(\n\u001b[0;32m     60\u001b[0m             \u001b[38;5;124m\"\u001b[39m\u001b[38;5;124mA polygon or multi-polygon representation is required\u001b[39m\u001b[38;5;124m\"\u001b[39m)\n\u001b[0;32m     62\u001b[0m vertices \u001b[38;5;241m=\u001b[39m concatenate([\n\u001b[1;32m---> 63\u001b[0m     concatenate([\u001b[43masarray\u001b[49m\u001b[43m(\u001b[49m\u001b[43mt\u001b[49m\u001b[38;5;241;43m.\u001b[39;49m\u001b[43mexterior\u001b[49m\u001b[43m)\u001b[49m\u001b[43m[\u001b[49m\u001b[43m:\u001b[49m\u001b[43m,\u001b[49m\u001b[43m \u001b[49m\u001b[43m:\u001b[49m\u001b[38;5;241;43m2\u001b[39;49m\u001b[43m]\u001b[49m] \u001b[38;5;241m+\u001b[39m\n\u001b[0;32m     64\u001b[0m                 [asarray(r)[:, :\u001b[38;5;241m2\u001b[39m] \u001b[38;5;28;01mfor\u001b[39;00m r \u001b[38;5;129;01min\u001b[39;00m t\u001b[38;5;241m.\u001b[39minteriors])\n\u001b[0;32m     65\u001b[0m     \u001b[38;5;28;01mfor\u001b[39;00m t \u001b[38;5;129;01min\u001b[39;00m polygon])\n\u001b[0;32m     66\u001b[0m codes \u001b[38;5;241m=\u001b[39m concatenate([\n\u001b[0;32m     67\u001b[0m     concatenate([coding(t\u001b[38;5;241m.\u001b[39mexterior)] \u001b[38;5;241m+\u001b[39m\n\u001b[0;32m     68\u001b[0m                 [coding(r) \u001b[38;5;28;01mfor\u001b[39;00m r \u001b[38;5;129;01min\u001b[39;00m t\u001b[38;5;241m.\u001b[39minteriors]) \u001b[38;5;28;01mfor\u001b[39;00m t \u001b[38;5;129;01min\u001b[39;00m polygon])\n\u001b[0;32m     70\u001b[0m \u001b[38;5;28;01mreturn\u001b[39;00m Path(vertices, codes)\n",
      "\u001b[1;31mIndexError\u001b[0m: too many indices for array: array is 0-dimensional, but 2 were indexed"
     ]
    },
    {
     "data": {
      "image/png": "[encoded data removed]",
      "text/plain": [
       "<Figure size 900x900 with 1 Axes>"
      ]
     },
     "metadata": {},
     "output_type": "display_data"
    }
   ],
   "source": [
    "if __name__ == \"__main__\":\n",
    "    test_arr: np.ndarray = np.array([[1, 1, 3, 3, 6, 6, 4, 4, 4],\n",
    "                                     [1, 1, 3, 3, 6, 6, 4, 4, 4],\n",
    "                                     [2, 2, 3, 3, 6, 8, 8, 4, 4],\n",
    "                                     [2, 2, 3, 3, 6, 8, 8, 4, 4],\n",
    "                                     [5, 5, 5, 3, 6, 7, 7, 7, 7],\n",
    "                                     [5, 5, 5, 3, 6, 7, 7, 7, 7]])\n",
    "\n",
    "    background_image: np.ndarray = np.random.rand(test_arr.shape[0], test_arr.shape[1])\n",
    "\n",
    "    fig = plt.figure(1, figsize=(9, 9))\n",
    "    plt.imshow(background_image, cmap='Pastel1')\n",
    "    # edge_colors: List[str] = ['black', 'blue', 'yellow', 'red', 'green']\n",
    "    # edge_colors: List[str] = ['black', 'black', 'black', 'black', 'black']\n",
    "    draw_clustering_boundary(test_arr, fig_obj=fig, boundary_shift=(-0.5, 0.5))\n",
    "    plt.show()"
   ]
  }
 ],
 "metadata": {
  "kernelspec": {
   "display_name": "py10",
   "language": "python",
   "name": "python3"
  },
  "language_info": {
   "codemirror_mode": {
    "name": "ipython",
    "version": 3
   },
   "file_extension": ".py",
   "mimetype": "text/x-python",
   "name": "python",
   "nbconvert_exporter": "python",
   "pygments_lexer": "ipython3",
   "version": "3.10.12"
  }
 },
 "nbformat": 4,
 "nbformat_minor": 2
}
