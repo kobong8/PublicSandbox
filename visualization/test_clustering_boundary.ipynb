{
 "cells": [
  {
   "cell_type": "code",
   "execution_count": null,
   "metadata": {},
   "outputs": [],
   "source": [
    "import matplotlib.pyplot as plt\n",
    "import numpy as np\n",
    "from typing import List, Tuple\n",
    "\n",
    "import shapely.geometry\n",
    "from descartes import PolygonPatch\n",
    "from shapely.geometry import box\n",
    "import shapely.ops as so"
   ]
  },
  {
   "cell_type": "code",
   "execution_count": null,
   "metadata": {},
   "outputs": [],
   "source": [
    "def draw_clustering_boundary(cluter_idx: np.ndarray, fig_obj: plt.figure,\n",
    "                             boundary_shift: Tuple[float, float] = (-0.5, 0.5)) -> None:\n",
    "    for k in range(len(np.unique(cluter_idx))):\n",
    "        rect_list: List[shapely.geometry.box] = []\n",
    "        for i in range(cluter_idx.shape[0]):\n",
    "            for j in range(cluter_idx.shape[1]):\n",
    "                if cluter_idx[i, j] == (k+1):\n",
    "                    rect = box(j + boundary_shift[0], i + boundary_shift[0],\n",
    "                               j + boundary_shift[1], i + boundary_shift[1])\n",
    "                    rect_list.append(rect)\n",
    "\n",
    "        new_shape = so.unary_union(rect_list)\n",
    "        ax = fig_obj.gca()\n",
    "        # IndexError: too many indices for array: array is 0-dimensional, but 2 were indexed\n",
    "        # https://github.com/aamini/introtodeeplearning/issues/114\n",
    "        # ax.add_patch(PolygonPatch(new_shape, ec='black',\n",
    "        #                           fill=False, linewidth=2, zorder=2))"
   ]
  },
  {
   "cell_type": "code",
   "execution_count": null,
   "metadata": {},
   "outputs": [],
   "source": [
    "if __name__ == \"__main__\":\n",
    "    test_arr: np.ndarray = np.array([[1, 1, 3, 3, 6, 6, 4, 4, 4],\n",
    "                                     [1, 1, 3, 3, 6, 6, 4, 4, 4],\n",
    "                                     [2, 2, 3, 3, 6, 8, 8, 4, 4],\n",
    "                                     [2, 2, 3, 3, 6, 8, 8, 4, 4],\n",
    "                                     [5, 5, 5, 3, 6, 7, 7, 7, 7],\n",
    "                                     [5, 5, 5, 3, 6, 7, 7, 7, 7]])\n",
    "\n",
    "    background_image: np.ndarray = np.random.rand(test_arr.shape[0], test_arr.shape[1])\n",
    "\n",
    "    fig = plt.figure(1, figsize=(9, 9))\n",
    "    plt.imshow(background_image, cmap='Pastel1')\n",
    "    # edge_colors: List[str] = ['black', 'blue', 'yellow', 'red', 'green']\n",
    "    # edge_colors: List[str] = ['black', 'black', 'black', 'black', 'black']\n",
    "    draw_clustering_boundary(test_arr, fig_obj=fig, boundary_shift=(-0.5, 0.5))\n",
    "    plt.show()"
   ]
  }
 ],
 "metadata": {
  "kernelspec": {
   "display_name": "py10",
   "language": "python",
   "name": "python3"
  },
  "language_info": {
   "codemirror_mode": {
    "name": "ipython",
    "version": 3
   },
   "file_extension": ".py",
   "mimetype": "text/x-python",
   "name": "python",
   "nbconvert_exporter": "python",
   "pygments_lexer": "ipython3",
   "version": "3.10.12"
  }
 },
 "nbformat": 4,
 "nbformat_minor": 2
}
