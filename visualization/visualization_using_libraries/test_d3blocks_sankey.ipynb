{
 "cells": [
  {
   "cell_type": "code",
   "execution_count": 1,
   "metadata": {},
   "outputs": [],
   "source": [
    "from d3blocks import D3Blocks\n",
    "# pip install d3blocks"
   ]
  },
  {
   "cell_type": "code",
   "execution_count": 2,
   "metadata": {},
   "outputs": [
    {
     "name": "stderr",
     "output_type": "stream",
     "text": [
      "[d3blocks] >INFO> Cleaning edge_properties and config parameters..\n",
      "[d3blocks] >INFO> Import dataset [energy]\n"
     ]
    }
   ],
   "source": [
    "d3 = D3Blocks()\n",
    "df = d3.import_example('energy')"
   ]
  },
  {
   "cell_type": "code",
   "execution_count": 3,
   "metadata": {},
   "outputs": [
    {
     "data": {
      "text/html": [
       "<div>\n",
       "<style scoped>\n",
       "    .dataframe tbody tr th:only-of-type {\n",
       "        vertical-align: middle;\n",
       "    }\n",
       "\n",
       "    .dataframe tbody tr th {\n",
       "        vertical-align: top;\n",
       "    }\n",
       "\n",
       "    .dataframe thead th {\n",
       "        text-align: right;\n",
       "    }\n",
       "</style>\n",
       "<table border=\"1\" class=\"dataframe\">\n",
       "  <thead>\n",
       "    <tr style=\"text-align: right;\">\n",
       "      <th></th>\n",
       "      <th>source</th>\n",
       "      <th>target</th>\n",
       "      <th>weight</th>\n",
       "    </tr>\n",
       "  </thead>\n",
       "  <tbody>\n",
       "    <tr>\n",
       "      <th>0</th>\n",
       "      <td>Agricultural 'waste'</td>\n",
       "      <td>Bio-conversion</td>\n",
       "      <td>124.729</td>\n",
       "    </tr>\n",
       "    <tr>\n",
       "      <th>1</th>\n",
       "      <td>Bio-conversion</td>\n",
       "      <td>Liquid</td>\n",
       "      <td>0.597</td>\n",
       "    </tr>\n",
       "    <tr>\n",
       "      <th>2</th>\n",
       "      <td>Bio-conversion</td>\n",
       "      <td>Losses</td>\n",
       "      <td>26.862</td>\n",
       "    </tr>\n",
       "    <tr>\n",
       "      <th>3</th>\n",
       "      <td>Bio-conversion</td>\n",
       "      <td>Solid</td>\n",
       "      <td>280.322</td>\n",
       "    </tr>\n",
       "    <tr>\n",
       "      <th>4</th>\n",
       "      <td>Bio-conversion</td>\n",
       "      <td>Gas</td>\n",
       "      <td>81.144</td>\n",
       "    </tr>\n",
       "    <tr>\n",
       "      <th>...</th>\n",
       "      <td>...</td>\n",
       "      <td>...</td>\n",
       "      <td>...</td>\n",
       "    </tr>\n",
       "    <tr>\n",
       "      <th>63</th>\n",
       "      <td>Thermal generation</td>\n",
       "      <td>District heating</td>\n",
       "      <td>79.329</td>\n",
       "    </tr>\n",
       "    <tr>\n",
       "      <th>64</th>\n",
       "      <td>Tidal</td>\n",
       "      <td>Electricity grid</td>\n",
       "      <td>9.452</td>\n",
       "    </tr>\n",
       "    <tr>\n",
       "      <th>65</th>\n",
       "      <td>UK land based bioenergy</td>\n",
       "      <td>Bio-conversion</td>\n",
       "      <td>182.010</td>\n",
       "    </tr>\n",
       "    <tr>\n",
       "      <th>66</th>\n",
       "      <td>Wave</td>\n",
       "      <td>Electricity grid</td>\n",
       "      <td>19.013</td>\n",
       "    </tr>\n",
       "    <tr>\n",
       "      <th>67</th>\n",
       "      <td>Wind</td>\n",
       "      <td>Electricity grid</td>\n",
       "      <td>289.366</td>\n",
       "    </tr>\n",
       "  </tbody>\n",
       "</table>\n",
       "<p>68 rows × 3 columns</p>\n",
       "</div>"
      ],
      "text/plain": [
       "                     source            target   weight\n",
       "0      Agricultural 'waste'    Bio-conversion  124.729\n",
       "1            Bio-conversion            Liquid    0.597\n",
       "2            Bio-conversion            Losses   26.862\n",
       "3            Bio-conversion             Solid  280.322\n",
       "4            Bio-conversion               Gas   81.144\n",
       "..                      ...               ...      ...\n",
       "63       Thermal generation  District heating   79.329\n",
       "64                    Tidal  Electricity grid    9.452\n",
       "65  UK land based bioenergy    Bio-conversion  182.010\n",
       "66                     Wave  Electricity grid   19.013\n",
       "67                     Wind  Electricity grid  289.366\n",
       "\n",
       "[68 rows x 3 columns]"
      ]
     },
     "execution_count": 3,
     "metadata": {},
     "output_type": "execute_result"
    }
   ],
   "source": [
    "df"
   ]
  },
  {
   "cell_type": "code",
   "execution_count": 4,
   "metadata": {},
   "outputs": [
    {
     "name": "stderr",
     "output_type": "stream",
     "text": [
      "[d3blocks] >INFO> Cleaning edge_properties and config parameters..\n",
      "[d3blocks] >INFO> Initializing [Sankey]\n",
      "[d3blocks] >INFO> filepath is set to [C:\\Users\\HEPHAI~1\\AppData\\Local\\Temp\\d3blocks\\sankey.html]\n",
      "[d3blocks] >INFO> Convert to DataFrame.\n",
      "[d3blocks] >INFO> Node properties are set.\n",
      "[d3blocks] >INFO> Edge properties are set.\n",
      "c:\\Users\\hephaistos\\anaconda3\\envs\\dv31\\lib\\site-packages\\d3blocks\\sankey\\Sankey.py:189: FutureWarning: Series.__getitem__ treating keys as positions is deprecated. In a future version, integer keys will always be treated as labels (consistent with DataFrame behavior). To access a value by position, use `ser.iloc[pos]`\n",
      "  config['fontsize'] = kwargs['node_properties']['fontsize'][0]\n",
      "[d3blocks] >INFO> Open browser: C:\\Users\\HEPHAI~1\\AppData\\Local\\Temp\\d3blocks\\sankey.html\n"
     ]
    }
   ],
   "source": [
    "d3.sankey(df)\n",
    "# AppData/Local/Temp/d3blocks/sankey.html"
   ]
  }
 ],
 "metadata": {
  "kernelspec": {
   "display_name": "dv31",
   "language": "python",
   "name": "python3"
  },
  "language_info": {
   "codemirror_mode": {
    "name": "ipython",
    "version": 3
   },
   "file_extension": ".py",
   "mimetype": "text/x-python",
   "name": "python",
   "nbconvert_exporter": "python",
   "pygments_lexer": "ipython3",
   "version": "3.10.13"
  }
 },
 "nbformat": 4,
 "nbformat_minor": 2
}
