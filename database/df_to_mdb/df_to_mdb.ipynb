{
 "cells": [
  {
   "cell_type": "code",
   "execution_count": 8,
   "metadata": {},
   "outputs": [],
   "source": [
    "import pyodbc\n",
    "import time\n",
    "\n",
    "import pandas as pd\n",
    "import sqlalchemy as sa\n",
    "\n",
    "from datetime import datetime\n",
    "\n",
    "from IPython.display import display, HTML"
   ]
  },
  {
   "cell_type": "code",
   "execution_count": 9,
   "metadata": {},
   "outputs": [],
   "source": [
    "## 240623 \n",
    "# sqlalchemy-access  2.0.1 see details in References section.\n",
    "# pip install sqlalchemy-access=2.0.1\n",
    "\n",
    "## 240627\n",
    "# conda install sqlalchemy-access"
   ]
  },
  {
   "cell_type": "code",
   "execution_count": 10,
   "metadata": {},
   "outputs": [],
   "source": [
    "mdb_path = \"./example.mdb\"\n",
    "driver = '{Microsoft Access Driver (*.mdb, *.accdb)}'\n",
    "conn_str = f\"DRIVER={driver};DBQ={mdb_path};\"\n",
    "\n",
    "cnxn = pyodbc.connect(conn_str)\n",
    "cursor = cnxn.cursor()\n",
    "\n",
    "cursor.execute(\"DROP TABLE DATA_TABLE\")\n",
    "cursor.close()\n",
    "cnxn.close()"
   ]
  },
  {
   "cell_type": "code",
   "execution_count": 11,
   "metadata": {},
   "outputs": [],
   "source": [
    "connection_string = ( \n",
    "    r\"DRIVER={Microsoft Access Driver (*.mdb, *.accdb)};\"\n",
    "    r\"DBQ=./example.mdb;\"\n",
    "    r\"ExtendedAnsiSQL=1;\" )\n",
    "\n",
    "connection_url = sa.engine.URL.create(\n",
    "    \"access+pyodbc\",\n",
    "    query={\"odbc_connect\": connection_string}\n",
    ")\n",
    "\n",
    "engine = sa.create_engine(connection_url)"
   ]
  },
  {
   "cell_type": "code",
   "execution_count": 12,
   "metadata": {},
   "outputs": [],
   "source": [
    "data_list_01 = [f\"DATA0{i}\" for i in range(1, 10)]\n",
    "data_list_02 = [f\"DATA{i}\" for i in range(10, 21)]\n",
    "data_list = data_list_01 + data_list_02"
   ]
  },
  {
   "cell_type": "markdown",
   "metadata": {},
   "source": [
    "- Create DataFrame\n",
    "- Append DataFrame to MDB file"
   ]
  },
  {
   "cell_type": "code",
   "execution_count": 13,
   "metadata": {},
   "outputs": [],
   "source": [
    "# TEST\n",
    "# date_data = datetime.today().strftime('%Y-%m-%d')\n",
    "# time_data = datetime.today().strftime('%H:%M:%S')\n",
    "# data_data = [i for i in range(1, 101)]\n",
    "\n",
    "# df = pd.DataFrame([data_data], columns=data_list)\n",
    "# df.insert(0, \"DATE\", date_data)\n",
    "# df.insert(1, \"TIME\", time_data)\n",
    "\n",
    "# df.to_sql(\"DATA_TABLE\", engine, index=False, if_exists=\"append\")\n",
    "\n",
    "# df"
   ]
  },
  {
   "cell_type": "code",
   "execution_count": 14,
   "metadata": {},
   "outputs": [
    {
     "data": {
      "text/html": [
       "<table border=\"1\" class=\"dataframe\">\n",
       "  <thead>\n",
       "    <tr style=\"text-align: right;\">\n",
       "      <th></th>\n",
       "      <th>DATE</th>\n",
       "      <th>TIME</th>\n",
       "      <th>DATA01</th>\n",
       "      <th>DATA02</th>\n",
       "      <th>DATA03</th>\n",
       "      <th>DATA04</th>\n",
       "      <th>DATA05</th>\n",
       "      <th>DATA06</th>\n",
       "      <th>DATA07</th>\n",
       "      <th>DATA08</th>\n",
       "      <th>DATA09</th>\n",
       "      <th>DATA10</th>\n",
       "      <th>DATA11</th>\n",
       "      <th>DATA12</th>\n",
       "      <th>DATA13</th>\n",
       "      <th>DATA14</th>\n",
       "      <th>DATA15</th>\n",
       "      <th>DATA16</th>\n",
       "      <th>DATA17</th>\n",
       "      <th>DATA18</th>\n",
       "      <th>DATA19</th>\n",
       "      <th>DATA20</th>\n",
       "    </tr>\n",
       "  </thead>\n",
       "  <tbody>\n",
       "    <tr>\n",
       "      <th>0</th>\n",
       "      <td>2024-06-27</td>\n",
       "      <td>15:23:33</td>\n",
       "      <td>1</td>\n",
       "      <td>1</td>\n",
       "      <td>1</td>\n",
       "      <td>1</td>\n",
       "      <td>1</td>\n",
       "      <td>1</td>\n",
       "      <td>1</td>\n",
       "      <td>1</td>\n",
       "      <td>1</td>\n",
       "      <td>1</td>\n",
       "      <td>1</td>\n",
       "      <td>1</td>\n",
       "      <td>1</td>\n",
       "      <td>1</td>\n",
       "      <td>1</td>\n",
       "      <td>1</td>\n",
       "      <td>1</td>\n",
       "      <td>1</td>\n",
       "      <td>1</td>\n",
       "      <td>1</td>\n",
       "    </tr>\n",
       "  </tbody>\n",
       "</table>"
      ],
      "text/plain": [
       "<IPython.core.display.HTML object>"
      ]
     },
     "metadata": {},
     "output_type": "display_data"
    },
    {
     "data": {
      "text/html": [
       "<table border=\"1\" class=\"dataframe\">\n",
       "  <thead>\n",
       "    <tr style=\"text-align: right;\">\n",
       "      <th></th>\n",
       "      <th>DATE</th>\n",
       "      <th>TIME</th>\n",
       "      <th>DATA01</th>\n",
       "      <th>DATA02</th>\n",
       "      <th>DATA03</th>\n",
       "      <th>DATA04</th>\n",
       "      <th>DATA05</th>\n",
       "      <th>DATA06</th>\n",
       "      <th>DATA07</th>\n",
       "      <th>DATA08</th>\n",
       "      <th>DATA09</th>\n",
       "      <th>DATA10</th>\n",
       "      <th>DATA11</th>\n",
       "      <th>DATA12</th>\n",
       "      <th>DATA13</th>\n",
       "      <th>DATA14</th>\n",
       "      <th>DATA15</th>\n",
       "      <th>DATA16</th>\n",
       "      <th>DATA17</th>\n",
       "      <th>DATA18</th>\n",
       "      <th>DATA19</th>\n",
       "      <th>DATA20</th>\n",
       "    </tr>\n",
       "  </thead>\n",
       "  <tbody>\n",
       "    <tr>\n",
       "      <th>0</th>\n",
       "      <td>2024-06-27</td>\n",
       "      <td>15:23:38</td>\n",
       "      <td>1</td>\n",
       "      <td>1</td>\n",
       "      <td>1</td>\n",
       "      <td>1</td>\n",
       "      <td>1</td>\n",
       "      <td>1</td>\n",
       "      <td>1</td>\n",
       "      <td>1</td>\n",
       "      <td>1</td>\n",
       "      <td>1</td>\n",
       "      <td>1</td>\n",
       "      <td>1</td>\n",
       "      <td>1</td>\n",
       "      <td>1</td>\n",
       "      <td>1</td>\n",
       "      <td>1</td>\n",
       "      <td>1</td>\n",
       "      <td>1</td>\n",
       "      <td>1</td>\n",
       "      <td>1</td>\n",
       "    </tr>\n",
       "  </tbody>\n",
       "</table>"
      ],
      "text/plain": [
       "<IPython.core.display.HTML object>"
      ]
     },
     "metadata": {},
     "output_type": "display_data"
    },
    {
     "data": {
      "text/html": [
       "<table border=\"1\" class=\"dataframe\">\n",
       "  <thead>\n",
       "    <tr style=\"text-align: right;\">\n",
       "      <th></th>\n",
       "      <th>DATE</th>\n",
       "      <th>TIME</th>\n",
       "      <th>DATA01</th>\n",
       "      <th>DATA02</th>\n",
       "      <th>DATA03</th>\n",
       "      <th>DATA04</th>\n",
       "      <th>DATA05</th>\n",
       "      <th>DATA06</th>\n",
       "      <th>DATA07</th>\n",
       "      <th>DATA08</th>\n",
       "      <th>DATA09</th>\n",
       "      <th>DATA10</th>\n",
       "      <th>DATA11</th>\n",
       "      <th>DATA12</th>\n",
       "      <th>DATA13</th>\n",
       "      <th>DATA14</th>\n",
       "      <th>DATA15</th>\n",
       "      <th>DATA16</th>\n",
       "      <th>DATA17</th>\n",
       "      <th>DATA18</th>\n",
       "      <th>DATA19</th>\n",
       "      <th>DATA20</th>\n",
       "    </tr>\n",
       "  </thead>\n",
       "  <tbody>\n",
       "    <tr>\n",
       "      <th>0</th>\n",
       "      <td>2024-06-27</td>\n",
       "      <td>15:23:43</td>\n",
       "      <td>1</td>\n",
       "      <td>1</td>\n",
       "      <td>1</td>\n",
       "      <td>1</td>\n",
       "      <td>1</td>\n",
       "      <td>1</td>\n",
       "      <td>1</td>\n",
       "      <td>1</td>\n",
       "      <td>1</td>\n",
       "      <td>1</td>\n",
       "      <td>1</td>\n",
       "      <td>1</td>\n",
       "      <td>1</td>\n",
       "      <td>1</td>\n",
       "      <td>1</td>\n",
       "      <td>1</td>\n",
       "      <td>1</td>\n",
       "      <td>1</td>\n",
       "      <td>1</td>\n",
       "      <td>1</td>\n",
       "    </tr>\n",
       "  </tbody>\n",
       "</table>"
      ],
      "text/plain": [
       "<IPython.core.display.HTML object>"
      ]
     },
     "metadata": {},
     "output_type": "display_data"
    }
   ],
   "source": [
    "for k in range(1, 4):\n",
    "    date_data = datetime.today().strftime('%Y-%m-%d')\n",
    "    time_data = datetime.today().strftime('%H:%M:%S')\n",
    "    data_data = [1 for i in range(1, 21)]\n",
    "\n",
    "    df = pd.DataFrame([data_data], columns=data_list)\n",
    "    df.insert(0, \"DATE\", date_data)\n",
    "    df.insert(1, \"TIME\", time_data)\n",
    "\n",
    "    df.to_sql(\"DATA_TABLE\", engine, index=False, if_exists=\"append\")\n",
    "\n",
    "    display(HTML(df.to_html()))\n",
    "\n",
    "    time.sleep(5)"
   ]
  },
  {
   "cell_type": "markdown",
   "metadata": {},
   "source": [
    "- References\n",
    "\n",
    "[1] https://stackoverflow.com/questions/72551312/how-can-i-write-a-pandas-dataframe-into-an-access-database-using-pyodbc\n",
    "\n",
    "[2] https://stackoverflow.com/questions/75281889/sqlalchemy-error-has-table-got-an-unexpected-keyword-argument-info-cache-en\n",
    "\n",
    "[3] https://stackoverflow.com/questions/3783238/python-database-connection-close\n",
    "\n",
    "[4] https://stackoverflow.com/questions/26873127/show-dataframe-as-table-in-ipython-notebook"
   ]
  }
 ],
 "metadata": {
  "kernelspec": {
   "display_name": "dbt",
   "language": "python",
   "name": "python3"
  },
  "language_info": {
   "codemirror_mode": {
    "name": "ipython",
    "version": 3
   },
   "file_extension": ".py",
   "mimetype": "text/x-python",
   "name": "python",
   "nbconvert_exporter": "python",
   "pygments_lexer": "ipython3",
   "version": "3.10.14"
  }
 },
 "nbformat": 4,
 "nbformat_minor": 2
}
