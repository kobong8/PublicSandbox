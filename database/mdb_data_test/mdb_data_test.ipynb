{
 "cells": [
  {
   "cell_type": "code",
   "execution_count": 4,
   "metadata": {},
   "outputs": [],
   "source": [
    "import pyodbc"
   ]
  },
  {
   "cell_type": "code",
   "execution_count": 5,
   "metadata": {},
   "outputs": [],
   "source": [
    "mdb_path = \"./database.mdb\"\n",
    "driver = '{Microsoft Access Driver (*.mdb, *.accdb)}'\n",
    "conn_str = f\"DRIVER={driver};DBQ={mdb_path};\"\n",
    "\n",
    "cnxn = pyodbc.connect(conn_str)\n",
    "cursor = cnxn.cursor()"
   ]
  },
  {
   "cell_type": "code",
   "execution_count": 6,
   "metadata": {},
   "outputs": [
    {
     "data": {
      "text/plain": [
       "<pyodbc.Cursor at 0x1cd9125beb0>"
      ]
     },
     "execution_count": 6,
     "metadata": {},
     "output_type": "execute_result"
    }
   ],
   "source": [
    "cursor.execute(\"\"\"\n",
    "CREATE TABLE DATA_TABLE (\n",
    "    id INTEGER PRIMARY KEY,\n",
    "    DATA01 FLOAT, DATA02 FLOAT,\n",
    "    DATA03 FLOAT, DATA04 FLOAT,\n",
    "    DATA05 FLOAT, DATA06 FLOAT,  \n",
    "    DATA07 FLOAT, DATA08 FLOAT,\n",
    "    DATA09 FLOAT                                                                  \n",
    ");\n",
    "\"\"\")"
   ]
  },
  {
   "cell_type": "code",
   "execution_count": 7,
   "metadata": {},
   "outputs": [
    {
     "data": {
      "text/plain": [
       "'INSERT INTO DATA_TABLE (id, DATA01, DATA02, DATA03, DATA04, DATA05, DATA06, DATA07, DATA08, DATA09) VALUES (1, 1, 2, 3, 4, 5, 6, 7, 8, 9)'"
      ]
     },
     "execution_count": 7,
     "metadata": {},
     "output_type": "execute_result"
    }
   ],
   "source": [
    "query_str = \"INSERT INTO DATA_TABLE \"\n",
    "id_str = \"(id, \"\n",
    "\n",
    "data_str = [f\"DATA0{i}\" for i in range(1, 10)]\n",
    "data_str = \", \".join(data_str)\n",
    "\n",
    "values = \") VALUES (1, \"\n",
    "values_str = [f\"{i}\" for i in range(1, 10)]\n",
    "values_str = \", \".join(values_str)\n",
    "end_str = \")\"\n",
    "\n",
    "ret = query_str + id_str + data_str + values + values_str + end_str\n",
    "ret"
   ]
  },
  {
   "cell_type": "code",
   "execution_count": 8,
   "metadata": {},
   "outputs": [],
   "source": [
    "cursor.execute(ret)\n",
    "\n",
    "cnxn.commit()"
   ]
  },
  {
   "cell_type": "code",
   "execution_count": 9,
   "metadata": {},
   "outputs": [
    {
     "name": "stdout",
     "output_type": "stream",
     "text": [
      "(1, 1.0, 2.0, 3.0, 4.0, 5.0, 6.0, 7.0, 8.0, 9.0)\n"
     ]
    }
   ],
   "source": [
    "cursor.execute(\"SELECT * FROM DATA_TABLE\")\n",
    "\n",
    "for row in cursor:\n",
    "    print(row)"
   ]
  },
  {
   "cell_type": "markdown",
   "metadata": {},
   "source": [
    "- Reference\n",
    "\n",
    "https://blog.naver.com/cjinnnn/223047261231"
   ]
  }
 ],
 "metadata": {
  "kernelspec": {
   "display_name": "tf12",
   "language": "python",
   "name": "python3"
  },
  "language_info": {
   "codemirror_mode": {
    "name": "ipython",
    "version": 3
   },
   "file_extension": ".py",
   "mimetype": "text/x-python",
   "name": "python",
   "nbconvert_exporter": "python",
   "pygments_lexer": "ipython3",
   "version": "3.11.9"
  }
 },
 "nbformat": 4,
 "nbformat_minor": 2
}
