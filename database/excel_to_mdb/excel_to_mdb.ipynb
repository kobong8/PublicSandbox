{
 "cells": [
  {
   "cell_type": "code",
   "execution_count": 4,
   "metadata": {},
   "outputs": [],
   "source": [
    "import pyodbc\n",
    "import numpy as np\n",
    "import pandas as pd\n",
    "import sqlalchemy as sa\n",
    "\n",
    "from datetime import datetime"
   ]
  },
  {
   "cell_type": "code",
   "execution_count": 5,
   "metadata": {},
   "outputs": [],
   "source": [
    "data_list_01 = [f\"DATA0{i}\" for i in range(1, 11)]\n",
    "data_list_02 = [f\"DATA{i}\" for i in range(11, 101)]\n",
    "data_list = data_list_01 + data_list_02"
   ]
  },
  {
   "cell_type": "code",
   "execution_count": 6,
   "metadata": {},
   "outputs": [
    {
     "data": {
      "text/html": [
       "<div>\n",
       "<style scoped>\n",
       "    .dataframe tbody tr th:only-of-type {\n",
       "        vertical-align: middle;\n",
       "    }\n",
       "\n",
       "    .dataframe tbody tr th {\n",
       "        vertical-align: top;\n",
       "    }\n",
       "\n",
       "    .dataframe thead th {\n",
       "        text-align: right;\n",
       "    }\n",
       "</style>\n",
       "<table border=\"1\" class=\"dataframe\">\n",
       "  <thead>\n",
       "    <tr style=\"text-align: right;\">\n",
       "      <th></th>\n",
       "      <th>DATE</th>\n",
       "      <th>TIME</th>\n",
       "      <th>DATA01</th>\n",
       "      <th>DATA02</th>\n",
       "      <th>DATA03</th>\n",
       "      <th>DATA04</th>\n",
       "      <th>DATA05</th>\n",
       "      <th>DATA06</th>\n",
       "      <th>DATA07</th>\n",
       "      <th>DATA08</th>\n",
       "      <th>...</th>\n",
       "      <th>DATA91</th>\n",
       "      <th>DATA92</th>\n",
       "      <th>DATA93</th>\n",
       "      <th>DATA94</th>\n",
       "      <th>DATA95</th>\n",
       "      <th>DATA96</th>\n",
       "      <th>DATA97</th>\n",
       "      <th>DATA98</th>\n",
       "      <th>DATA99</th>\n",
       "      <th>DATA100</th>\n",
       "    </tr>\n",
       "  </thead>\n",
       "  <tbody>\n",
       "    <tr>\n",
       "      <th>0</th>\n",
       "      <td>2024-06-23</td>\n",
       "      <td>17:21:48</td>\n",
       "      <td>1</td>\n",
       "      <td>2</td>\n",
       "      <td>3</td>\n",
       "      <td>4</td>\n",
       "      <td>5</td>\n",
       "      <td>6</td>\n",
       "      <td>7</td>\n",
       "      <td>8</td>\n",
       "      <td>...</td>\n",
       "      <td>91</td>\n",
       "      <td>92</td>\n",
       "      <td>93</td>\n",
       "      <td>94</td>\n",
       "      <td>95</td>\n",
       "      <td>96</td>\n",
       "      <td>97</td>\n",
       "      <td>98</td>\n",
       "      <td>99</td>\n",
       "      <td>100</td>\n",
       "    </tr>\n",
       "  </tbody>\n",
       "</table>\n",
       "<p>1 rows × 102 columns</p>\n",
       "</div>"
      ],
      "text/plain": [
       "         DATE      TIME  DATA01  DATA02  DATA03  DATA04  DATA05  DATA06  \\\n",
       "0  2024-06-23  17:21:48       1       2       3       4       5       6   \n",
       "\n",
       "   DATA07  DATA08  ...  DATA91  DATA92  DATA93  DATA94  DATA95  DATA96  \\\n",
       "0       7       8  ...      91      92      93      94      95      96   \n",
       "\n",
       "   DATA97  DATA98  DATA99  DATA100  \n",
       "0      97      98      99      100  \n",
       "\n",
       "[1 rows x 102 columns]"
      ]
     },
     "execution_count": 6,
     "metadata": {},
     "output_type": "execute_result"
    }
   ],
   "source": [
    "date_data = datetime.today().strftime('%Y-%m-%d')\n",
    "time_data = datetime.today().strftime('%H:%M:%S')\n",
    "data_data = [i for i in range(1, 101)]\n",
    "\n",
    "df = pd.DataFrame([data_data], columns=data_list)\n",
    "df.insert(0, \"DATE\", date_data)\n",
    "df.insert(1, \"TIME\", time_data)\n",
    "df"
   ]
  },
  {
   "cell_type": "code",
   "execution_count": 7,
   "metadata": {},
   "outputs": [
    {
     "data": {
      "text/plain": [
       "-1"
      ]
     },
     "execution_count": 7,
     "metadata": {},
     "output_type": "execute_result"
    }
   ],
   "source": [
    "connection_string = ( \n",
    "    r\"DRIVER={Microsoft Access Driver (*.mdb, *.accdb)};\"\n",
    "    r\"DBQ=./example.mdb;\"\n",
    "    r\"ExtendedAnsiSQL=1;\" )\n",
    "connection_url = sa.engine.URL.create(\n",
    "    \"access+pyodbc\",\n",
    "    query={\"odbc_connect\": connection_string}\n",
    ")\n",
    "engine = sa.create_engine(connection_url)\n",
    "\n",
    "df.to_sql(\"DATA_TABLE\", engine, index=False, if_exists=\"append\")"
   ]
  }
 ],
 "metadata": {
  "kernelspec": {
   "display_name": "dbt",
   "language": "python",
   "name": "python3"
  },
  "language_info": {
   "codemirror_mode": {
    "name": "ipython",
    "version": 3
   },
   "file_extension": ".py",
   "mimetype": "text/x-python",
   "name": "python",
   "nbconvert_exporter": "python",
   "pygments_lexer": "ipython3",
   "version": "3.11.9"
  }
 },
 "nbformat": 4,
 "nbformat_minor": 2
}
